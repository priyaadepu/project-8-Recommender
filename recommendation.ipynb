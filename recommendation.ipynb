{
  "nbformat": 4,
  "nbformat_minor": 0,
  "metadata": {
    "colab": {
      "provenance": [],
      "authorship_tag": "ABX9TyP4GR6zBvNACax8Burtdzk0",
      "include_colab_link": true
    },
    "kernelspec": {
      "name": "python3",
      "display_name": "Python 3"
    },
    "language_info": {
      "name": "python"
    }
  },
  "cells": [
    {
      "cell_type": "markdown",
      "metadata": {
        "id": "view-in-github",
        "colab_type": "text"
      },
      "source": [
        "<a href=\"https://colab.research.google.com/github/priyaadepu/project-8-Recommender/blob/main/recommendation.ipynb\" target=\"_parent\"><img src=\"https://colab.research.google.com/assets/colab-badge.svg\" alt=\"Open In Colab\"/></a>"
      ]
    },
    {
      "cell_type": "code",
      "execution_count": null,
      "metadata": {
        "colab": {
          "base_uri": "https://localhost:8080/"
        },
        "id": "q2wI8PLXooxm",
        "outputId": "04f4ab2a-3264-47ac-e35f-a84808f91df8"
      },
      "outputs": [
        {
          "output_type": "stream",
          "name": "stdout",
          "text": [
            "Requirement already satisfied: scikit-surprise in /usr/local/lib/python3.11/dist-packages (1.1.4)\n",
            "Requirement already satisfied: joblib>=1.2.0 in /usr/local/lib/python3.11/dist-packages (from scikit-surprise) (1.4.2)\n",
            "Requirement already satisfied: numpy>=1.19.5 in /usr/local/lib/python3.11/dist-packages (from scikit-surprise) (1.26.4)\n",
            "Requirement already satisfied: scipy>=1.6.0 in /usr/local/lib/python3.11/dist-packages (from scikit-surprise) (1.13.1)\n"
          ]
        }
      ],
      "source": [
        "import pandas as pd\n",
        "import numpy as np\n",
        "import seaborn as sns\n",
        "import matplotlib.pyplot as plt\n",
        "from sklearn.feature_extraction.text import TfidfVectorizer\n",
        "from sklearn.metrics.pairwise import cosine_similarity\n",
        "from sklearn.model_selection import train_test_split\n",
        "from surprise import Dataset, Reader, SVD\n",
        "from surprise.model_selection import cross_validate\n",
        "from sklearn.metrics import precision_score, recall_score, f1_score, accuracy_score\n",
        "!pip install scikit-surprise"
      ]
    },
    {
      "cell_type": "code",
      "source": [
        "from google.colab import files\n",
        "\n",
        "# Upload files\n",
        "uploaded = files.upload()"
      ],
      "metadata": {
        "colab": {
          "base_uri": "https://localhost:8080/",
          "height": 142
        },
        "id": "Q75rn06xpBzi",
        "outputId": "f83dd547-ba3b-4892-b82c-b5ec2d98aa63"
      },
      "execution_count": null,
      "outputs": [
        {
          "output_type": "display_data",
          "data": {
            "text/plain": [
              "<IPython.core.display.HTML object>"
            ],
            "text/html": [
              "\n",
              "     <input type=\"file\" id=\"files-43fa0b18-2bab-410f-8fcd-68de61afb730\" name=\"files[]\" multiple disabled\n",
              "        style=\"border:none\" />\n",
              "     <output id=\"result-43fa0b18-2bab-410f-8fcd-68de61afb730\">\n",
              "      Upload widget is only available when the cell has been executed in the\n",
              "      current browser session. Please rerun this cell to enable.\n",
              "      </output>\n",
              "      <script>// Copyright 2017 Google LLC\n",
              "//\n",
              "// Licensed under the Apache License, Version 2.0 (the \"License\");\n",
              "// you may not use this file except in compliance with the License.\n",
              "// You may obtain a copy of the License at\n",
              "//\n",
              "//      http://www.apache.org/licenses/LICENSE-2.0\n",
              "//\n",
              "// Unless required by applicable law or agreed to in writing, software\n",
              "// distributed under the License is distributed on an \"AS IS\" BASIS,\n",
              "// WITHOUT WARRANTIES OR CONDITIONS OF ANY KIND, either express or implied.\n",
              "// See the License for the specific language governing permissions and\n",
              "// limitations under the License.\n",
              "\n",
              "/**\n",
              " * @fileoverview Helpers for google.colab Python module.\n",
              " */\n",
              "(function(scope) {\n",
              "function span(text, styleAttributes = {}) {\n",
              "  const element = document.createElement('span');\n",
              "  element.textContent = text;\n",
              "  for (const key of Object.keys(styleAttributes)) {\n",
              "    element.style[key] = styleAttributes[key];\n",
              "  }\n",
              "  return element;\n",
              "}\n",
              "\n",
              "// Max number of bytes which will be uploaded at a time.\n",
              "const MAX_PAYLOAD_SIZE = 100 * 1024;\n",
              "\n",
              "function _uploadFiles(inputId, outputId) {\n",
              "  const steps = uploadFilesStep(inputId, outputId);\n",
              "  const outputElement = document.getElementById(outputId);\n",
              "  // Cache steps on the outputElement to make it available for the next call\n",
              "  // to uploadFilesContinue from Python.\n",
              "  outputElement.steps = steps;\n",
              "\n",
              "  return _uploadFilesContinue(outputId);\n",
              "}\n",
              "\n",
              "// This is roughly an async generator (not supported in the browser yet),\n",
              "// where there are multiple asynchronous steps and the Python side is going\n",
              "// to poll for completion of each step.\n",
              "// This uses a Promise to block the python side on completion of each step,\n",
              "// then passes the result of the previous step as the input to the next step.\n",
              "function _uploadFilesContinue(outputId) {\n",
              "  const outputElement = document.getElementById(outputId);\n",
              "  const steps = outputElement.steps;\n",
              "\n",
              "  const next = steps.next(outputElement.lastPromiseValue);\n",
              "  return Promise.resolve(next.value.promise).then((value) => {\n",
              "    // Cache the last promise value to make it available to the next\n",
              "    // step of the generator.\n",
              "    outputElement.lastPromiseValue = value;\n",
              "    return next.value.response;\n",
              "  });\n",
              "}\n",
              "\n",
              "/**\n",
              " * Generator function which is called between each async step of the upload\n",
              " * process.\n",
              " * @param {string} inputId Element ID of the input file picker element.\n",
              " * @param {string} outputId Element ID of the output display.\n",
              " * @return {!Iterable<!Object>} Iterable of next steps.\n",
              " */\n",
              "function* uploadFilesStep(inputId, outputId) {\n",
              "  const inputElement = document.getElementById(inputId);\n",
              "  inputElement.disabled = false;\n",
              "\n",
              "  const outputElement = document.getElementById(outputId);\n",
              "  outputElement.innerHTML = '';\n",
              "\n",
              "  const pickedPromise = new Promise((resolve) => {\n",
              "    inputElement.addEventListener('change', (e) => {\n",
              "      resolve(e.target.files);\n",
              "    });\n",
              "  });\n",
              "\n",
              "  const cancel = document.createElement('button');\n",
              "  inputElement.parentElement.appendChild(cancel);\n",
              "  cancel.textContent = 'Cancel upload';\n",
              "  const cancelPromise = new Promise((resolve) => {\n",
              "    cancel.onclick = () => {\n",
              "      resolve(null);\n",
              "    };\n",
              "  });\n",
              "\n",
              "  // Wait for the user to pick the files.\n",
              "  const files = yield {\n",
              "    promise: Promise.race([pickedPromise, cancelPromise]),\n",
              "    response: {\n",
              "      action: 'starting',\n",
              "    }\n",
              "  };\n",
              "\n",
              "  cancel.remove();\n",
              "\n",
              "  // Disable the input element since further picks are not allowed.\n",
              "  inputElement.disabled = true;\n",
              "\n",
              "  if (!files) {\n",
              "    return {\n",
              "      response: {\n",
              "        action: 'complete',\n",
              "      }\n",
              "    };\n",
              "  }\n",
              "\n",
              "  for (const file of files) {\n",
              "    const li = document.createElement('li');\n",
              "    li.append(span(file.name, {fontWeight: 'bold'}));\n",
              "    li.append(span(\n",
              "        `(${file.type || 'n/a'}) - ${file.size} bytes, ` +\n",
              "        `last modified: ${\n",
              "            file.lastModifiedDate ? file.lastModifiedDate.toLocaleDateString() :\n",
              "                                    'n/a'} - `));\n",
              "    const percent = span('0% done');\n",
              "    li.appendChild(percent);\n",
              "\n",
              "    outputElement.appendChild(li);\n",
              "\n",
              "    const fileDataPromise = new Promise((resolve) => {\n",
              "      const reader = new FileReader();\n",
              "      reader.onload = (e) => {\n",
              "        resolve(e.target.result);\n",
              "      };\n",
              "      reader.readAsArrayBuffer(file);\n",
              "    });\n",
              "    // Wait for the data to be ready.\n",
              "    let fileData = yield {\n",
              "      promise: fileDataPromise,\n",
              "      response: {\n",
              "        action: 'continue',\n",
              "      }\n",
              "    };\n",
              "\n",
              "    // Use a chunked sending to avoid message size limits. See b/62115660.\n",
              "    let position = 0;\n",
              "    do {\n",
              "      const length = Math.min(fileData.byteLength - position, MAX_PAYLOAD_SIZE);\n",
              "      const chunk = new Uint8Array(fileData, position, length);\n",
              "      position += length;\n",
              "\n",
              "      const base64 = btoa(String.fromCharCode.apply(null, chunk));\n",
              "      yield {\n",
              "        response: {\n",
              "          action: 'append',\n",
              "          file: file.name,\n",
              "          data: base64,\n",
              "        },\n",
              "      };\n",
              "\n",
              "      let percentDone = fileData.byteLength === 0 ?\n",
              "          100 :\n",
              "          Math.round((position / fileData.byteLength) * 100);\n",
              "      percent.textContent = `${percentDone}% done`;\n",
              "\n",
              "    } while (position < fileData.byteLength);\n",
              "  }\n",
              "\n",
              "  // All done.\n",
              "  yield {\n",
              "    response: {\n",
              "      action: 'complete',\n",
              "    }\n",
              "  };\n",
              "}\n",
              "\n",
              "scope.google = scope.google || {};\n",
              "scope.google.colab = scope.google.colab || {};\n",
              "scope.google.colab._files = {\n",
              "  _uploadFiles,\n",
              "  _uploadFilesContinue,\n",
              "};\n",
              "})(self);\n",
              "</script> "
            ]
          },
          "metadata": {}
        },
        {
          "output_type": "stream",
          "name": "stdout",
          "text": [
            "Saving Customer.csv to Customer (5).csv\n",
            "Saving prod_cat_info.csv to prod_cat_info (5).csv\n",
            "Saving Transactions.csv to Transactions (5).csv\n"
          ]
        }
      ]
    },
    {
      "cell_type": "code",
      "source": [
        "# Task 1: Data Collection\n",
        "customer_df = pd.read_csv(\"Customer.csv\")\n",
        "prod_cat_df = pd.read_csv(\"prod_cat_info.csv\")\n",
        "transactions_df = pd.read_csv(\"Transactions.csv\")"
      ],
      "metadata": {
        "id": "LZPqUDffqESI"
      },
      "execution_count": null,
      "outputs": []
    },
    {
      "cell_type": "code",
      "source": [
        "# Task 2: Data Preprocessing\n",
        "transactions_df['tran_date'] = pd.to_datetime(transactions_df['tran_date'], errors='coerce')\n",
        "customer_df['DOB'] = pd.to_datetime(customer_df['DOB'], errors='coerce')\n",
        "transactions_df.rename(columns={'prod_subcat_code': 'prod_sub_cat_code'}, inplace=True)\n",
        "merged_df = transactions_df.merge(customer_df, left_on='cust_id', right_on='customer_Id', how='left') \\\n",
        "                           .merge(prod_cat_df, on=['prod_cat_code', 'prod_sub_cat_code'], how='left')\n",
        "merged_df.drop(columns=['customer_Id'], inplace=True)\n",
        "merged_df = merged_df[merged_df['Qty'] > 0]\n",
        "merged_df.fillna(\"Unknown\", inplace=True)"
      ],
      "metadata": {
        "id": "vWyee_3bpxdd",
        "colab": {
          "base_uri": "https://localhost:8080/"
        },
        "outputId": "60651c2b-f03e-4c42-9719-8462e49fce28"
      },
      "execution_count": null,
      "outputs": [
        {
          "output_type": "stream",
          "name": "stderr",
          "text": [
            "<ipython-input-35-75bf95284f79>:2: UserWarning: Parsing dates in %d-%m-%Y format when dayfirst=False (the default) was specified. Pass `dayfirst=True` or specify a format to silence this warning.\n",
            "  transactions_df['tran_date'] = pd.to_datetime(transactions_df['tran_date'], errors='coerce')\n",
            "<ipython-input-35-75bf95284f79>:9: FutureWarning: Setting an item of incompatible dtype is deprecated and will raise an error in a future version of pandas. Value 'Unknown' has dtype incompatible with datetime64[ns], please explicitly cast to a compatible dtype first.\n",
            "  merged_df.fillna(\"Unknown\", inplace=True)\n",
            "<ipython-input-35-75bf95284f79>:9: FutureWarning: Setting an item of incompatible dtype is deprecated and will raise an error in a future version of pandas. Value 'Unknown' has dtype incompatible with float64, please explicitly cast to a compatible dtype first.\n",
            "  merged_df.fillna(\"Unknown\", inplace=True)\n"
          ]
        }
      ]
    },
    {
      "cell_type": "code",
      "source": [
        "# Task 3: Exploratory Data Analysis (EDA)\n",
        "plt.figure(figsize=(10, 5))\n",
        "sns.countplot(data=merged_df, x='prod_cat', order=merged_df['prod_cat'].value_counts().index)\n",
        "plt.xticks(rotation=45)\n",
        "plt.title(\"Most Purchased Product Categories\")\n",
        "plt.show()"
      ],
      "metadata": {
        "id": "coBzIL-zp8vj",
        "colab": {
          "base_uri": "https://localhost:8080/",
          "height": 573
        },
        "outputId": "e3fa0104-be1b-478b-ffd5-a2b9c8675fd4"
      },
      "execution_count": null,
      "outputs": [
        {
          "output_type": "display_data",
          "data": {
            "text/plain": [
              "<Figure size 1000x500 with 1 Axes>"
            ],
            "image/png": "[encoded data removed]"
          },
          "metadata": {}
        }
      ]
    },
    {
      "cell_type": "code",
      "source": [
        "# Task 4: Recommendation Techniques\n",
        "\n",
        "# Content-Based Filtering\n",
        "vectorizer = TfidfVectorizer(stop_words='english')\n",
        "prod_features = vectorizer.fit_transform(merged_df['prod_cat'] + \" \" + merged_df['prod_subcat'])\n",
        "similarity_matrix = cosine_similarity(prod_features)\n",
        "# Function to recommend products based on content similarity\n",
        "def recommend_products(product_name, num_recommendations=5):\n",
        "    product_indices = merged_df[merged_df['prod_cat'] == product_name].index\n",
        "    if len(product_indices) == 0:\n",
        "        return \"No recommendations available\"\n",
        "    product_idx = product_indices[0]\n",
        "    similar_indices = np.argsort(similarity_matrix[product_idx])[-(num_recommendations+1):-1][::-1]\n",
        "    return merged_df.iloc[similar_indices][['prod_cat', 'prod_subcat']]\n",
        "\n",
        "# Collaborative Filtering\n",
        "reader = Reader(rating_scale=(1, 5))\n",
        "data = Dataset.load_from_df(merged_df[['cust_id', 'prod_cat_code', 'Qty']], reader)\n",
        "\n",
        "# Split the data using Surprise's train_test_split function\n",
        "from surprise.model_selection import train_test_split\n",
        "# Use train_test_split directly, not surprise_train_test_split\n",
        "trainset, testset = train_test_split(data, test_size=0.2)\n",
        "\n",
        "# Fit the SVD model\n",
        "model = SVD()\n",
        "model.fit(trainset)\n",
        "predictions = model.test(testset)\n"
      ],
      "metadata": {
        "id": "zL8OgD7JqIkq"
      },
      "execution_count": null,
      "outputs": []
    },
    {
      "cell_type": "code",
      "source": [
        "# Task 5: Hybrid Model - Combining Content-Based & Collaborative Filtering\n",
        "def hybrid_recommendations(user_id, product_name, num_recommendations=5):\n",
        "    # Collaborative filtering recommendations (product IDs)\n",
        "    collab_recommendations = [pred.iid for pred in model.test([(user_id, i, 4) for i in range(1, 10)])]\n",
        "\n",
        "    # Content-based recommendations (product categories)\n",
        "    content_recommendations = recommend_products(product_name)\n",
        "\n",
        "    # If content-based recommendations return a DataFrame, extract 'prod_cat'\n",
        "    if isinstance(content_recommendations, pd.DataFrame):\n",
        "        content_recommendations = content_recommendations['prod_cat'].values\n",
        "\n",
        "    # Extract product names or categories for collab recommendations\n",
        "    collab_product_names = merged_df[merged_df['prod_cat_code'].isin(collab_recommendations)]['prod_cat'].values\n",
        "\n",
        "    # Combine both recommendations (remove duplicates)\n",
        "    combined_recommendations = list(set(collab_product_names) | set(content_recommendations))\n",
        "\n",
        "    # Limit the number of recommendations\n",
        "    return combined_recommendations[:num_recommendations]\n",
        "\n",
        "# Example Hybrid Recommendation with a limit\n",
        "recommendations = hybrid_recommendations(1001, \"Electronics\", num_recommendations=5)\n",
        "print(recommendations)\n"
      ],
      "metadata": {
        "id": "gOtUTzQa8jKN",
        "colab": {
          "base_uri": "https://localhost:8080/"
        },
        "outputId": "4bc8f813-e02a-41cf-8e6b-5d01790cdaf2"
      },
      "execution_count": null,
      "outputs": [
        {
          "output_type": "stream",
          "name": "stdout",
          "text": [
            "['Books', 'Footwear', 'Electronics', 'Clothing', 'Bags']\n"
          ]
        }
      ]
    },
    {
      "cell_type": "code",
      "source": [
        "import matplotlib.pyplot as plt\n",
        "\n",
        "def visualize_recommendations(recommendations):\n",
        "    # Create a bar chart of recommended product categories\n",
        "    plt.figure(figsize=(10, 6))\n",
        "    sns.countplot(y=recommendations, palette=\"viridis\")\n",
        "    plt.title(\"Top Product Categories Recommended\")\n",
        "    plt.xlabel(\"Frequency\")\n",
        "    plt.ylabel(\"Product Category\")\n",
        "    plt.show()\n",
        "\n",
        "# Visualize the recommendations\n",
        "visualize_recommendations(recommendations)"
      ],
      "metadata": {
        "colab": {
          "base_uri": "https://localhost:8080/",
          "height": 671
        },
        "id": "cH_odHCvB3WR",
        "outputId": "5c1c4e1e-9b00-401e-ad67-0331ae65a11d"
      },
      "execution_count": null,
      "outputs": [
        {
          "output_type": "stream",
          "name": "stderr",
          "text": [
            "<ipython-input-39-4c1d01ffcdf2>:6: FutureWarning: \n",
            "\n",
            "Passing `palette` without assigning `hue` is deprecated and will be removed in v0.14.0. Assign the `y` variable to `hue` and set `legend=False` for the same effect.\n",
            "\n",
            "  sns.countplot(y=recommendations, palette=\"viridis\")\n"
          ]
        },
        {
          "output_type": "display_data",
          "data": {
            "text/plain": [
              "<Figure size 1000x600 with 1 Axes>"
            ],
            "image/png": "[encoded data removed]"
          },
          "metadata": {}
        }
      ]
    },
    {
      "cell_type": "code",
      "source": [
        "# --------------------------- Task 6: Model Evaluation ---------------------------\n",
        "def evaluate_model(predictions):\n",
        "    # Calculate prediction accuracy\n",
        "    y_true = [pred.r_ui for pred in predictions]\n",
        "    y_pred = [pred.est for pred in predictions]\n",
        "    accuracy = accuracy_score(np.round(y_true), np.round(y_pred))\n",
        "\n",
        "    return accuracy\n",
        "\n",
        "def success_metrics(y_true, y_pred):\n",
        "    precision = precision_score(y_true, y_pred, average='macro', zero_division=1)\n",
        "    recall = recall_score(y_true, y_pred, average='macro', zero_division=1)\n",
        "    f1 = f1_score(y_true, y_pred, average='macro', zero_division=1)\n",
        "    return {\"Precision\": precision, \"Recall\": recall, \"F1-Score\": f1}\n"
      ],
      "metadata": {
        "id": "UfPnkkaI4reT"
      },
      "execution_count": null,
      "outputs": []
    },
    {
      "cell_type": "code",
      "source": [
        "# ---------------------------- Task 7: Cross-validation ---------------------------\n",
        "def cross_validation(model_svd, data):\n",
        "    # Performing cross-validation\n",
        "    cross_validate(model_svd, data, measures=['RMSE', 'MAE'], cv=5, verbose=True)"
      ],
      "metadata": {
        "id": "LtKfKqmt8zMA"
      },
      "execution_count": null,
      "outputs": []
    },
    {
      "cell_type": "code",
      "source": [
        "def visualize_results(merged_df, model_svd, similarity_matrix):\n",
        "    # Content-based vs Collaborative filtering recommendation comparison\n",
        "    print(\"Generating Content-based recommendations...\")\n",
        "    rec_content = recommend_products(\"Electronics\", merged_df, similarity_matrix, num_recommendations=5)['prod_cat'].values\n",
        "    print(f\"Content-based recommendations: {rec_content}\")\n",
        "\n",
        "    print(\"Generating Collaborative recommendations...\")\n",
        "    rec_collab = [str(item) for item in hybrid_recommendations(1001, \"Electronics\", merged_df, similarity_matrix, model_svd)]\n",
        "    print(f\"Collaborative recommendations: {rec_collab}\")\n",
        "\n",
        "    # Plot comparison of recommendations\n",
        "    plt.figure(figsize=(10, 6))\n",
        "    plt.hist([rec_content, rec_collab], label=[\"Content-Based\", \"Collaborative\"], bins=10, alpha=0.7)\n",
        "    plt.title(\"Recommendation Comparison: Content-Based vs Collaborative Filtering\")\n",
        "    plt.xlabel(\"Product Categories\")\n",
        "    plt.ylabel(\"Frequency\")\n",
        "    plt.legend()\n",
        "    plt.show()\n",
        "\n",
        "# Performance metrics visualization should be outside the function\n",
        "print(\"Generating evaluation metrics...\")\n",
        "metrics_df = pd.DataFrame.from_dict(success_metrics([1, 0, 1, 1, 0], [1, 1, 1, 0, 0]), orient='index', columns=['Score'])\n",
        "print(\"Metrics DataFrame:\", metrics_df)\n",
        "metrics_df.plot(kind='bar', figsize=(8, 5), color=['#3498db', '#2ecc71', '#e74c3c'])\n",
        "plt.title(\"Evaluation Metrics (Precision, Recall, F1-Score)\")\n",
        "plt.ylabel(\"Score\")\n",
        "plt.xticks(rotation=0)\n",
        "plt.show()"
      ],
      "metadata": {
        "colab": {
          "base_uri": "https://localhost:8080/",
          "height": 555
        },
        "id": "NWoNr7i-_rWQ",
        "outputId": "4cda2fb7-17fa-4867-dddd-6a1e2b6a2253"
      },
      "execution_count": null,
      "outputs": [
        {
          "output_type": "stream",
          "name": "stdout",
          "text": [
            "Generating evaluation metrics...\n",
            "Metrics DataFrame:               Score\n",
            "Precision  0.583333\n",
            "Recall     0.583333\n",
            "F1-Score   0.583333\n"
          ]
        },
        {
          "output_type": "display_data",
          "data": {
            "text/plain": [
              "<Figure size 800x500 with 1 Axes>"
            ],
            "image/png": "[encoded data removed]"
          },
          "metadata": {}
        }
      ]
    },
    {
      "cell_type": "code",
      "source": [
        "# Task 8: Evaluation Metrics\n",
        "def evaluate_model(y_true, y_pred):\n",
        "    precision = precision_score(y_true, y_pred, average='macro', zero_division=1)\n",
        "    recall = recall_score(y_true, y_pred, average='macro', zero_division=1)\n",
        "    f1 = f1_score(y_true, y_pred, average='macro', zero_division=1)\n",
        "    return {\"Precision\": precision, \"Recall\": recall, \"F1-Score\": f1}\n",
        "\n",
        "cross_validate(model, data, measures=['RMSE', 'MAE'], cv=5, verbose=True)"
      ],
      "metadata": {
        "id": "v-fuO_OR453S",
        "colab": {
          "base_uri": "https://localhost:8080/"
        },
        "outputId": "9b5d0f00-9803-4dd6-88e3-58c7e8ea97d5"
      },
      "execution_count": null,
      "outputs": [
        {
          "output_type": "stream",
          "name": "stdout",
          "text": [
            "Evaluating RMSE, MAE of algorithm SVD on 5 split(s).\n",
            "\n",
            "                  Fold 1  Fold 2  Fold 3  Fold 4  Fold 5  Mean    Std     \n",
            "RMSE (testset)    1.5606  1.5492  1.5618  1.5747  1.5743  1.5641  0.0095  \n",
            "MAE (testset)     1.3265  1.3161  1.3211  1.3327  1.3332  1.3259  0.0066  \n",
            "Fit time          0.82    0.77    1.03    1.02    0.73    0.87    0.13    \n",
            "Test time         0.10    0.04    0.14    0.03    0.34    0.13    0.11    \n"
          ]
        },
        {
          "output_type": "execute_result",
          "data": {
            "text/plain": [
              "{'test_rmse': array([1.56059484, 1.54920113, 1.56178711, 1.57466557, 1.57427957]),\n",
              " 'test_mae': array([1.32648586, 1.31606176, 1.32111402, 1.33265905, 1.33322769]),\n",
              " 'fit_time': (0.822012186050415,\n",
              "  0.770179271697998,\n",
              "  1.034296989440918,\n",
              "  1.0154173374176025,\n",
              "  0.7251706123352051),\n",
              " 'test_time': (0.09667849540710449,\n",
              "  0.03527235984802246,\n",
              "  0.14490556716918945,\n",
              "  0.03387928009033203,\n",
              "  0.3449575901031494)}"
            ]
          },
          "metadata": {},
          "execution_count": 43
        }
      ]
    },
    {
      "cell_type": "code",
      "source": [
        "def save_recommendations_to_csv(recommendations, filename=\"recommendations.csv\"):\n",
        "    # Save the recommendations list to a CSV file\n",
        "    df = pd.DataFrame(recommendations, columns=[\"Recommended Categories\"])\n",
        "    df.to_csv(filename, index=False)\n",
        "    print(f\"Recommendations saved to {filename}\")\n",
        "\n",
        "# Save recommendations to CSV\n",
        "save_recommendations_to_csv(recommendations)\n"
      ],
      "metadata": {
        "id": "Ec7HRc-u02wX",
        "colab": {
          "base_uri": "https://localhost:8080/"
        },
        "outputId": "e5c67723-a2ac-4526-ca78-12600a2af30f"
      },
      "execution_count": null,
      "outputs": [
        {
          "output_type": "stream",
          "name": "stdout",
          "text": [
            "Recommendations saved to recommendations.csv\n"
          ]
        }
      ]
    },
    {
      "cell_type": "code",
      "source": [
        "# prompt: how download recommendations.csv\n",
        "\n",
        "from google.colab import files\n",
        "files.download('recommendations.csv')\n"
      ],
      "metadata": {
        "colab": {
          "base_uri": "https://localhost:8080/",
          "height": 17
        },
        "id": "Q0GvM2OtC57R",
        "outputId": "2ae89019-c4a4-4c6e-9b3c-18471ae3b22a"
      },
      "execution_count": null,
      "outputs": [
        {
          "output_type": "display_data",
          "data": {
            "text/plain": [
              "<IPython.core.display.Javascript object>"
            ],
            "application/javascript": [
              "\n",
              "    async function download(id, filename, size) {\n",
              "      if (!google.colab.kernel.accessAllowed) {\n",
              "        return;\n",
              "      }\n",
              "      const div = document.createElement('div');\n",
              "      const label = document.createElement('label');\n",
              "      label.textContent = `Downloading \"${filename}\": `;\n",
              "      div.appendChild(label);\n",
              "      const progress = document.createElement('progress');\n",
              "      progress.max = size;\n",
              "      div.appendChild(progress);\n",
              "      document.body.appendChild(div);\n",
              "\n",
              "      const buffers = [];\n",
              "      let downloaded = 0;\n",
              "\n",
              "      const channel = await google.colab.kernel.comms.open(id);\n",
              "      // Send a message to notify the kernel that we're ready.\n",
              "      channel.send({})\n",
              "\n",
              "      for await (const message of channel.messages) {\n",
              "        // Send a message to notify the kernel that we're ready.\n",
              "        channel.send({})\n",
              "        if (message.buffers) {\n",
              "          for (const buffer of message.buffers) {\n",
              "            buffers.push(buffer);\n",
              "            downloaded += buffer.byteLength;\n",
              "            progress.value = downloaded;\n",
              "          }\n",
              "        }\n",
              "      }\n",
              "      const blob = new Blob(buffers, {type: 'application/binary'});\n",
              "      const a = document.createElement('a');\n",
              "      a.href = window.URL.createObjectURL(blob);\n",
              "      a.download = filename;\n",
              "      div.appendChild(a);\n",
              "      a.click();\n",
              "      div.remove();\n",
              "    }\n",
              "  "
            ]
          },
          "metadata": {}
        },
        {
          "output_type": "display_data",
          "data": {
            "text/plain": [
              "<IPython.core.display.Javascript object>"
            ],
            "application/javascript": [
              "download(\"download_1f24fb71-30a6-4434-96cc-c33a4efddba8\", \"recommendations.csv\", 64)"
            ]
          },
          "metadata": {}
        }
      ]
    }
  ]
}